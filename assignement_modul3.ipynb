{
 "cells": [
  {
   "cell_type": "code",
   "execution_count": null,
   "id": "49462328",
   "metadata": {},
   "outputs": [],
   "source": [
    "# que:-1. What is List? How will you reverse a list?\n",
    "# -> A list is a value that contains multiple values in an ordered sequence.\n",
    "# we can reverse a list by using 'var.reverse()' method of list."
   ]
  },
  {
   "cell_type": "code",
   "execution_count": null,
   "id": "bbad4db4",
   "metadata": {},
   "outputs": [],
   "source": [
    "#  que:-2. How will you remove last object from a list?\n",
    "# -> we can remove last object from a list by using 'var.pop()' method of list."
   ]
  },
  {
   "cell_type": "code",
   "execution_count": null,
   "id": "225e0b0d",
   "metadata": {},
   "outputs": [],
   "source": [
    "# que:-3. Suppose list1 is [2, 33, 222, 14, 25], what is list1 [-1]?\n",
    "# -> List[-1] is 25"
   ]
  },
  {
   "cell_type": "code",
   "execution_count": null,
   "id": "90925da5",
   "metadata": {},
   "outputs": [],
   "source": [
    "# que:-4. Differentiate between append () and extend () methods?\n",
    "# -> .append() adds a single element to the end of the list while .extend() can add multiple \n",
    "# individual elements to the end of the list"
   ]
  },
  {
   "cell_type": "code",
   "execution_count": null,
   "id": "a7644b46",
   "metadata": {},
   "outputs": [],
   "source": [
    "# que:-5. Write a Python function to get the largest number,smallest num and sum of all from a list.\n",
    "h=[45,87,55,12,43,22,38,11,78,90]\n",
    "h.sort()\n",
    "l=h[-1]\n",
    "s=h[0]\n",
    "t=0\n",
    "for i in h:\n",
    "    t+=i\n",
    "print('smallest number:-',s)\n",
    "print('largest number:-',l)\n",
    "print('the sum of list:-',t)"
   ]
  },
  {
   "cell_type": "code",
   "execution_count": null,
   "id": "08a8afeb",
   "metadata": {},
   "outputs": [],
   "source": [
    "# que:-6. How will you compare two lists?\n",
    "# -> The == operator compares the two lists item by item."
   ]
  },
  {
   "cell_type": "code",
   "execution_count": null,
   "id": "1b3746c3",
   "metadata": {},
   "outputs": [],
   "source": [
    "# que:-7. Write a Python program to count the number of strings where the string length is 2 or more \n",
    "# and the first and last character are same from a given list of strings.\n",
    "str1=input('enter the strings in one line.\\n')\n",
    "st1=str1.split()\n",
    "st2=[]\n",
    "for i in st1:\n",
    "    if len(i)>=2:\n",
    "        if i[0]==i[-1]:\n",
    "            st2+=[i]\n",
    "if st2==[]:\n",
    "    print()\n",
    "else:\n",
    "    print(st2)"
   ]
  },
  {
   "cell_type": "code",
   "execution_count": null,
   "id": "363e35ca",
   "metadata": {},
   "outputs": [],
   "source": [
    "# que:-8. Write a Python program to remove duplicates from a list.\n",
    "str1=input('enter the list in one line.')\n",
    "st1=str1.split()\n",
    "st2=[]\n",
    "t1=[]\n",
    "t2=[]\n",
    "for i in st1:\n",
    "    if i.isalpha() and i not in st2:\n",
    "        st2+=[i]\n",
    "    elif i.isdecimal():\n",
    "        st2+=[int(i)]\n",
    "for h in st2:\n",
    "    if h not in t1:\n",
    "        t1+=[h]\n",
    "print(t1)"
   ]
  },
  {
   "cell_type": "code",
   "execution_count": null,
   "id": "a0bec8f0",
   "metadata": {},
   "outputs": [],
   "source": [
    "# que:-9. Write a Python program to check a list is empty or not.\n",
    "l1=input('enter the list in one line.\\n')\n",
    "l2=l1.split()\n",
    "l3=[]\n",
    "if l2==l3:\n",
    "    print('list is empty.')\n",
    "else:\n",
    "    print('list is not empty.')\n",
    "print(l2)"
   ]
  },
  {
   "cell_type": "code",
   "execution_count": null,
   "id": "a3afda13",
   "metadata": {},
   "outputs": [],
   "source": [
    "# que:-10. Write a Python function that takes two lists and returns true if they have at least one \n",
    "# common member.\n",
    "list1=input('enter the first list in one line.\\n')\n",
    "list2=input('enter the second list in one line.\\n')\n",
    "sl1=list1.split()\n",
    "sl2=list2.split()\n",
    "s=set(sl1)\n",
    "s1=set(sl2)\n",
    "if s.intersection(s1):\n",
    "    print(True)\n",
    "else:\n",
    "    print(False)"
   ]
  },
  {
   "cell_type": "code",
   "execution_count": null,
   "id": "25aecd0d",
   "metadata": {},
   "outputs": [],
   "source": [
    "# que:-11. Write a Python program to generate and print a list of first and last 5 elements where \n",
    "# the values are square of numbers between 1 and 30.\n",
    "str1=[1,2,3,4,5,26,27,28,29,30]\n",
    "st=[]\n",
    "for i in str1:\n",
    "    for j in str1:\n",
    "        if j==i:\n",
    "            st+=[j*i]\n",
    "print(st)"
   ]
  },
  {
   "cell_type": "code",
   "execution_count": null,
   "id": "b4b656f9",
   "metadata": {},
   "outputs": [],
   "source": [
    "# que:-12. Write a Python function that takes a list and returns a new list with unique elements of \n",
    "# the first list.\n",
    "str1=input('enter the list in one line.')\n",
    "st1=str1.split()\n",
    "st2=[]\n",
    "t1=[]\n",
    "t2=[]\n",
    "for i in st1:\n",
    "    if i.isalpha() and i not in st2:\n",
    "        st2+=[i]\n",
    "    elif i.isdecimal():\n",
    "        st2+=[int(i)]\n",
    "for h in st2:\n",
    "    if h not in t1:\n",
    "        t1+=[h]\n",
    "print('unique elements of the first list.',t1)"
   ]
  },
  {
   "cell_type": "code",
   "execution_count": null,
   "id": "f0a1df4c",
   "metadata": {},
   "outputs": [],
   "source": [
    "# que:-13. Write a Python program to convert a list of characters into a string.\n",
    "st1=input('enter the list of characters.\\n')\n",
    "st2=st1.split()\n",
    "st3=''\n",
    "for i in st2:\n",
    "    st3+=str(i)\n",
    "print('your list:-',st2)\n",
    "print('answer:-',st3)"
   ]
  },
  {
   "cell_type": "code",
   "execution_count": null,
   "id": "725bd8f6",
   "metadata": {},
   "outputs": [],
   "source": [
    "# que:-14. Write a Python program to select an item randomly from a list.\n",
    "st1=input('enter the list of elemnets in one line.\\n')\n",
    "st2=st1.split()\n",
    "st3=set(st2)\n",
    "st4=st3.pop()\n",
    "print('answer:-',st4)"
   ]
  },
  {
   "cell_type": "code",
   "execution_count": null,
   "id": "dc588bd6",
   "metadata": {},
   "outputs": [],
   "source": [
    "# que:-15. Write a Python program to find the second smallest number in a list.\n",
    "h=[45,87,0,55,12,43,22,38,1,78,90]\n",
    "h.sort()\n",
    "s=h[0]\n",
    "s1=h[1]\n",
    "print('the smallest number:=',s)\n",
    "print('the second smallest number:=',s1)\n"
   ]
  },
  {
   "cell_type": "code",
   "execution_count": null,
   "id": "72b0fba9",
   "metadata": {},
   "outputs": [],
   "source": [
    "# que:-16. Write a Python program to get unique values from a list.\n",
    "str1=input('enter the list in one line.')\n",
    "st1=str1.split()\n",
    "st2=[]\n",
    "t1=[]\n",
    "t2=[]\n",
    "for i in st1:\n",
    "    if i.isalpha() and i not in st2:\n",
    "        st2+=[i] \n",
    "    elif i.isdecimal():\n",
    "        st2+=[int(i)]\n",
    "for h in st2:\n",
    "    if h not in t1:\n",
    "        t1+=[h]\n",
    "print('unique vqlues:-',t1)"
   ]
  },
  {
   "cell_type": "code",
   "execution_count": null,
   "id": "893b47e8",
   "metadata": {},
   "outputs": [],
   "source": [
    "# que:-17. Write a Python program to check whether a list contains a sub list.\n",
    "k=[]\n",
    "k1=[]\n",
    "k2=[]\n",
    "while True:\n",
    "    h=input('enter the element,press enter to stop.')\n",
    "    if h=='':\n",
    "        break\n",
    "    if h.isdecimal():\n",
    "        k+=[int(h)]\n",
    "    else:\n",
    "        k1+=[h]\n",
    "for h1 in k1:\n",
    "    if h1.startswith(\"[\") and h1.endswith(\"]\"):\n",
    "        k2+=[h1]\n",
    "if k2==[]:\n",
    "    print('there is not any sublist in your list.')\n",
    "else:\n",
    "    print('there is sublist in your list.')"
   ]
  },
  {
   "cell_type": "code",
   "execution_count": null,
   "id": "03560bc8",
   "metadata": {},
   "outputs": [],
   "source": [
    "# que:-18. Write a Python program to split a list into different variables.\n",
    "str1=[1,2.5,'mitesh',15]\n",
    "str2=tuple(str1)\n",
    "var1,var2,var3,var4=str2\n",
    "print(var3)"
   ]
  },
  {
   "cell_type": "code",
   "execution_count": null,
   "id": "4f6daacb",
   "metadata": {},
   "outputs": [],
   "source": [
    "# que:-19. What is tuple? Difference between list and tuple.\n",
    "# -> Tuples are used to store multiple items in a single variable.\n",
    "# The primary difference between tuples and lists is that tuples are immutable as opposed \n",
    "# to lists which are mutable."
   ]
  },
  {
   "cell_type": "code",
   "execution_count": null,
   "id": "c836f938",
   "metadata": {},
   "outputs": [],
   "source": [
    "# que:-20. Write a Python program to create a tuple with different data types.\n",
    "str1=[12,'mit',1.2,True,{15,85,'jay'},[12,3.5,88],'jay',(12,15,False),{12:4,'mit':12,1.5:0},14]\n",
    "st1=tuple(str1)\n",
    "print(st1)"
   ]
  },
  {
   "cell_type": "code",
   "execution_count": null,
   "id": "8d0373a3",
   "metadata": {},
   "outputs": [],
   "source": [
    "# que:- 21. Write a Python program to create a tuple with numbers.\n",
    "tp1=[]\n",
    "st=input('enter the list in one line.')\n",
    "tp=st.split()\n",
    "for i in tp:\n",
    "    tp1+=[int(i)]\n",
    "tp2=tuple(tp1)\n",
    "print(tp2)"
   ]
  },
  {
   "cell_type": "code",
   "execution_count": null,
   "id": "ea8f4517",
   "metadata": {},
   "outputs": [],
   "source": [
    "# que:- 22. Write a Python program to convert a tuple to a string.\n",
    "str1=(12,'hi',2.5,'mit',100,'raj')\n",
    "st3=''\n",
    "for i in str1:\n",
    "    st3+=str(i)\n",
    "print(st3)"
   ]
  },
  {
   "cell_type": "code",
   "execution_count": null,
   "id": "b95df4f6",
   "metadata": {},
   "outputs": [],
   "source": [
    "#Que;= 23 Write a Python program to find the length of a tuple. \n",
    "\n",
    "tuple=(2,5,8,9,6,3,1)\n",
    "len(tuple)"
   ]
  },
  {
   "cell_type": "code",
   "execution_count": null,
   "id": "9a23c5b1",
   "metadata": {},
   "outputs": [],
   "source": [
    "#Que ;= 24 Write a Python program to convert a list to a tuple. \n",
    "\n",
    "def convert(list):\n",
    "    return tuple(list)\n",
    "\n",
    "list = [1,2,3,4,5]\n",
    "print(convert(list))"
   ]
  },
  {
   "cell_type": "code",
   "execution_count": 1,
   "id": "d7e99ebb",
   "metadata": {},
   "outputs": [
    {
     "data": {
      "text/plain": [
       "4"
      ]
     },
     "execution_count": 1,
     "metadata": {},
     "output_type": "execute_result"
    }
   ],
   "source": [
    "#Que 25 Write a Python program to find the repeated items of a tuple. \n",
    "\n",
    "tuple1 = (23,4,5,64,4,4,4,4,5,5,5,6,6,6,6)\n",
    "tuple1.count(5)\n"
   ]
  },
  {
   "cell_type": "code",
   "execution_count": null,
   "id": "27f5fe7a",
   "metadata": {},
   "outputs": [],
   "source": [
    "#Que :=26 "
   ]
  },
  {
   "cell_type": "code",
   "execution_count": null,
   "id": "076cd98f",
   "metadata": {},
   "outputs": [],
   "source": []
  }
 ],
 "metadata": {
  "kernelspec": {
   "display_name": "Python 3 (ipykernel)",
   "language": "python",
   "name": "python3"
  },
  "language_info": {
   "codemirror_mode": {
    "name": "ipython",
    "version": 3
   },
   "file_extension": ".py",
   "mimetype": "text/x-python",
   "name": "python",
   "nbconvert_exporter": "python",
   "pygments_lexer": "ipython3",
   "version": "3.9.13"
  }
 },
 "nbformat": 4,
 "nbformat_minor": 5
}
