{
 "cells": [
  {
   "cell_type": "code",
   "execution_count": null,
   "id": "3142f318",
   "metadata": {},
   "outputs": [],
   "source": [
    "#Que 1 WAP to check number is zero postive and nagative.....\n",
    "\n",
    "num = int(input())\n",
    "if num == 0:\n",
    "    print('The Nmuber is Zero:')\n",
    "elif num >=0:\n",
    "    print('The Number is Postive:')\n",
    "else:\n",
    "    print('The Number is Nagative:')"
   ]
  },
  {
   "cell_type": "code",
   "execution_count": null,
   "id": "4ecec692",
   "metadata": {},
   "outputs": [],
   "source": [
    "#Que 2 WAP to check number is odd or even.....\n",
    "\n",
    "num = int(input('Enter the Number....'))\n",
    "if num%2 ==0:\n",
    "    print('The Number is Even:')\n",
    "else:\n",
    "    print('The Number is Odd:')"
   ]
  },
  {
   "cell_type": "code",
   "execution_count": null,
   "id": "bbf53494",
   "metadata": {},
   "outputs": [],
   "source": [
    "# Que 3 Swap two number....\n",
    "\n",
    "a= int(input('Enter value of a:'))\n",
    "b= int(input('Enter value of b:'))\n",
    "temp=a\n",
    "a=b\n",
    "b=temp\n",
    "print(\"The value of a is swapping\",a)\n",
    "print(\"The value of b is swapping\",b)"
   ]
  },
  {
   "cell_type": "code",
   "execution_count": 5,
   "id": "ff90cd83",
   "metadata": {},
   "outputs": [
    {
     "name": "stdout",
     "output_type": "stream",
     "text": [
      "Enter the number...5\n",
      "120\n"
     ]
    }
   ],
   "source": [
    "#Que 4 WAP to find factorial number.....\n",
    "\n",
    "user= int(input(\"Enter the number...\"))\n",
    "fact=1\n",
    "for i in range(1,user+1):\n",
    "    fact=fact*i\n",
    "print(fact)"
   ]
  },
  {
   "cell_type": "code",
   "execution_count": null,
   "id": "ece56740",
   "metadata": {},
   "outputs": [],
   "source": [
    "#Que 5 WAPto febonaki series.....\n",
    "\n",
    "a=int(input(\"Enter the value of a:\"))\n",
    "b=int(input(\"Enter the value of b:\"))\n",
    "for n in range(9):\n",
    "    a=a+n\n",
    "    n=b+1\n",
    "    print(a,'+',end='')"
   ]
  },
  {
   "cell_type": "code",
   "execution_count": 6,
   "id": "11714266",
   "metadata": {},
   "outputs": [
    {
     "name": "stdout",
     "output_type": "stream",
     "text": [
      "1\n",
      "2\n",
      "3\n",
      "4\n",
      "6\n",
      "7\n",
      "8\n",
      "9\n"
     ]
    }
   ],
   "source": [
    "#Que 6 WAP to what is  continue statement in python....\n",
    "\n",
    "for i in range (1,10):\n",
    "    if i == 5:\n",
    "        continue\n",
    "    print(i)\n",
    "    \n",
    "#its control statments.\n",
    "# its skips the current itrarion,continues from the next itration.."
   ]
  },
  {
   "cell_type": "code",
   "execution_count": null,
   "id": "9fc9997a",
   "metadata": {},
   "outputs": [],
   "source": [
    "#Que 7 WAP to check alphabets or vowel......\n",
    "\n",
    "user=input(\"ENter thr alphabets...\")\n",
    "if (user=='a' or user=='e' or user=='i' or user=='o' or user=='u'):\n",
    "    print('This alphabets is vowel..')\n",
    "else:\n",
    "    print(\"This alphabets is Constonant.....\")"
   ]
  },
  {
   "cell_type": "code",
   "execution_count": null,
   "id": "4fda6e39",
   "metadata": {},
   "outputs": [],
   "source": [
    "#Que 8 WAP to count of each words in given string....\n",
    "\n",
    "str=input()\n",
    "count=0\n",
    "for i in str:\n",
    "    for j in str:\n",
    "        if i == j:\n",
    "            count+=1\n",
    "            \n",
    "    print(i,count,sep=\":\")\n",
    "    count=0"
   ]
  },
  {
   "cell_type": "code",
   "execution_count": null,
   "id": "1d11aa30",
   "metadata": {},
   "outputs": [],
   "source": [
    "#Que 9 what are negative idexing and why are they used.....\n",
    "\n",
    "\n",
    "# Negative indexing starts from where the array ends.\n",
    "# To access the last elements or charcter of a string or arrey negatve indexing is used.\n",
    "# It is generally used to find the index value of a charcter or element."
   ]
  },
  {
   "cell_type": "code",
   "execution_count": null,
   "id": "34c5209f",
   "metadata": {},
   "outputs": [],
   "source": [
    "#Que 10 WAP to sum of number is postive.....\n",
    "\n",
    "n=int(input(\"Enter the postive number...\"))\n",
    "ans=0\n",
    "for i in range(1,n):\n",
    "    ans += i\n",
    "print(i)"
   ]
  },
  {
   "cell_type": "code",
   "execution_count": null,
   "id": "3d0159e6",
   "metadata": {},
   "outputs": [],
   "source": [
    "#Que 11 WAP to return if two values are sum or equal or diffrence is 5..\n",
    "\n",
    "a=int(input(\"Enter the number1\"))\n",
    "b=int(input(\"Enter the number2\"))\n",
    "c=int(input(\"Enter the number3\"))\n",
    "if a==b or b==c or c==a:\n",
    "    print('Zero')\n",
    "else:\n",
    "    sum=a+b+c\n",
    "    print(sum)"
   ]
  },
  {
   "cell_type": "code",
   "execution_count": null,
   "id": "efe2a855",
   "metadata": {},
   "outputs": [],
   "source": [
    "#Que 12 WAP to calculate the length of string....\n",
    "\n",
    "str1=\"AvinashPatil\"\n",
    "str2=len(str1)\n",
    "print(str2)"
   ]
  },
  {
   "cell_type": "code",
   "execution_count": null,
   "id": "2bd1d1cf",
   "metadata": {},
   "outputs": [],
   "source": [
    "#Que 13 WAP to count the number of char in a string.....\n",
    "\n",
    "str1=\"hipythinorigramminglanguage\"\n",
    "str2=str1.count('h')\n",
    "print(str2)"
   ]
  },
  {
   "cell_type": "code",
   "execution_count": null,
   "id": "016fc579",
   "metadata": {},
   "outputs": [],
   "source": [
    "#Que 14 WAP to python program to get single string from two given string,\n",
    "# sep by a soace swao tge first two cgar of each sting......\n",
    "\n",
    "str=\"deepak patel...\"\n",
    "str1=str[0:2]\n",
    "str2=str[10:]\n",
    "str3=str[8:10]\n",
    "str4=str[2:7]\n",
    "div=str1+str2\n",
    "div1=str3+str4\n",
    "print(div)\n",
    "print(div1)"
   ]
  },
  {
   "cell_type": "code",
   "execution_count": null,
   "id": "242bfe11",
   "metadata": {},
   "outputs": [],
   "source": [
    "#Que 15 WAP to add 'ing' at the end of a given strung if the given strung,\n",
    "# already ends with ing the  add 'ty.......'\n",
    "\n",
    "str=input('Enter thr string;')\n",
    "if str.endswith('ing'):\n",
    "    str1=str.replce('ing','liy')\n",
    "    print(str1)\n",
    "else:=[;]\n",
    "    if str.count(str)<5:\n",
    "        print(str)\n",
    "    else:\n",
    "        str_join=str.join(['ing'])\n",
    "        print(str+str_join)"
   ]
  },
  {
   "cell_type": "code",
   "execution_count": null,
   "id": "b2b4c02a",
   "metadata": {},
   "outputs": [],
   "source": [
    "#Que 16 WAP in funtion to reverse a string if its length is a multiple 4...\n",
    "\n",
    "str1=input('Enter a string..')\n",
    "n='ing'\n",
    "if len(str1)>=3 and str1.endswith('ing'):\n",
    "    ans=str.replace('ing','ly')\n",
    "    print(ans)\n",
    "elif len(str1)>=3 and str1.endswith !=n:\n",
    "    ans1 = f'{str1}{n}'\n",
    "    print(ans1)\n",
    "elif len(str1)<=3:\n",
    "    print(str1)"
   ]
  },
  {
   "cell_type": "code",
   "execution_count": null,
   "id": "67a11e77",
   "metadata": {},
   "outputs": [],
   "source": [
    "#Que 17 WAP to python funtion that takes a list of words and return of the lognest one....\n",
    "\n",
    "str1 [1,'sdfghjk',3]\n",
    "len(str1)"
   ]
  },
  {
   "cell_type": "code",
   "execution_count": null,
   "id": "6081532c",
   "metadata": {},
   "outputs": [],
   "source": [
    "#Que 18 WAP to  count thr accurances of each word in a given sen....\n",
    "\n",
    "str = input(\"Enter the String:\")\n",
    "f = input (\"Enter the Repetion:\")\n",
    "ans = str.count(f)\n",
    "print(ans)"
   ]
  },
  {
   "cell_type": "code",
   "execution_count": null,
   "id": "525acf5d",
   "metadata": {},
   "outputs": [],
   "source": [
    "#Que 19 WAP to that will return true if the two given int value or equal or thier sum of diffrence is 5..\n",
    "\n",
    "a=int(input(\"Enter no 1:\"))\n",
    "b=int(input(\"Enter no 2:\"))\n",
    "sum=a+b\n",
    "c=a-b\n",
    "d=b-a\n",
    "if a==b:\n",
    "    print(\"True\")\n",
    "elif sum==5:\n",
    "    print(\"True\")\n",
    "elif c==5:\n",
    "    print(\"True\")\n",
    "elif d==5:\n",
    "    print(\"True\")\n",
    "else:\n",
    "    print(\"False\")\n"
   ]
  },
  {
   "cell_type": "code",
   "execution_count": null,
   "id": "2657c2ee",
   "metadata": {},
   "outputs": [],
   "source": [
    "#Que 20 WAP to sum of first n integers....\n",
    "\n",
    "n=int(input(\"Enter the number:\"))\n",
    "sum=int(num*(num+1)/2)\n",
    "print('Sum of given number:',num,'is:',sum)"
   ]
  },
  {
   "cell_type": "code",
   "execution_count": null,
   "id": "547c7022",
   "metadata": {},
   "outputs": [],
   "source": [
    "#Que 21 WAP to reverse a string if its lenght is a multiple of 4....\n",
    "\n",
    "str=input(\"Enter the String:\")\n",
    "str2=len(str)\n",
    "if str%4==0:\n",
    "    print(str[::-1])\n",
    "else:\n",
    "    print('0')"
   ]
  },
  {
   "cell_type": "code",
   "execution_count": 3,
   "id": "73bab22c",
   "metadata": {},
   "outputs": [
    {
     "name": "stdout",
     "output_type": "stream",
     "text": [
      "Enter the string:w2\n",
      "w2w2\n"
     ]
    }
   ],
   "source": [
    "#Que 22 WAP to get a string made of thr first 2 and the last 2 char from a given a string,\n",
    "# if the string lenght is lessthan 2 ,return \"empty string\",\n",
    "# a sample string:w3resource\n",
    "# expexted result:w3ce.\n",
    "# a sample string:w3.\n",
    "# a expacted resukt:w3w3.\n",
    "# a sample string:w.\n",
    "# a expcted result;empty string.\n",
    "\n",
    "str=input(\"Enter the string:\")\n",
    "f_t=str[0:2]\n",
    "l_t=str[-2]\n",
    "res= f_t+l_t\n",
    "if len(str)<2:\n",
    "    print(\"Empty string:\")\n",
    "elif len(str)==2:\n",
    "    print(str*2)\n",
    "elif len(str)>=3:\n",
    "    print(f_t,l_t,sep='')"
   ]
  },
  {
   "cell_type": "code",
   "execution_count": 4,
   "id": "225ca618",
   "metadata": {},
   "outputs": [
    {
     "name": "stdout",
     "output_type": "stream",
     "text": [
      "Enter the String:avinash\n",
      "Enter the Substring to add in middle string:patil\n",
      "avi patil nash\n"
     ]
    }
   ],
   "source": [
    "#Que 23 WAP to python funtion to insert a string in the middle of a string....\n",
    "\n",
    "str=input(\"Enter the String:\")\n",
    "str1=input(\"Enter the Substring to add in middle string:\")\n",
    "mid=len(str)//2\n",
    "a=str[:mid]\n",
    "b=str[mid:]\n",
    "ans=f'{a} {str1} {b}'\n",
    "print(ans)"
   ]
  },
  {
   "cell_type": "code",
   "execution_count": null,
   "id": "5fe1b63e",
   "metadata": {},
   "outputs": [],
   "source": []
  }
 ],
 "metadata": {
  "kernelspec": {
   "display_name": "Python 3 (ipykernel)",
   "language": "python",
   "name": "python3"
  },
  "language_info": {
   "codemirror_mode": {
    "name": "ipython",
    "version": 3
   },
   "file_extension": ".py",
   "mimetype": "text/x-python",
   "name": "python",
   "nbconvert_exporter": "python",
   "pygments_lexer": "ipython3",
   "version": "3.9.13"
  }
 },
 "nbformat": 4,
 "nbformat_minor": 5
}
